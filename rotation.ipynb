{
 "cells": [
  {
   "cell_type": "code",
   "execution_count": 1,
   "id": "cb630df8",
   "metadata": {},
   "outputs": [
    {
     "data": {
      "text/plain": [
       "True"
      ]
     },
     "execution_count": 1,
     "metadata": {},
     "output_type": "execute_result"
    }
   ],
   "source": [
    "def are_strings_rotations(str1, str2):\n",
    "    # Check if the lengths are the same\n",
    "    if len(str1) != len(str2):\n",
    "        return False\n",
    "    \n",
    "    # Concatenate str1 with itself to create a new string\n",
    "    concatenated_str1 = str1 + str1\n",
    "    \n",
    "    # Check if str2 is a substring of the concatenated string\n",
    "    return str2 in concatenated_str1\n",
    "\n",
    "# Example usage:\n",
    "string1 = \"waterbottle\"\n",
    "string2 = \"erbottlewat\"\n",
    "result = are_strings_rotations(string1, string2)\n",
    "result\n"
   ]
  },
  {
   "cell_type": "code",
   "execution_count": null,
   "id": "76a35a8d",
   "metadata": {},
   "outputs": [],
   "source": []
  }
 ],
 "metadata": {
  "kernelspec": {
   "display_name": "Python 3 (ipykernel)",
   "language": "python",
   "name": "python3"
  },
  "language_info": {
   "codemirror_mode": {
    "name": "ipython",
    "version": 3
   },
   "file_extension": ".py",
   "mimetype": "text/x-python",
   "name": "python",
   "nbconvert_exporter": "python",
   "pygments_lexer": "ipython3",
   "version": "3.11.4"
  }
 },
 "nbformat": 4,
 "nbformat_minor": 5
}
